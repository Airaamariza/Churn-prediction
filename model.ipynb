{
 "cells": [
  {
   "cell_type": "code",
   "execution_count": 11,
   "metadata": {},
   "outputs": [],
   "source": [
    "from sklearn.model_selection import train_test_split\n",
    "import pandas as pd\n",
    "import numpy as np\n",
    "import tensorflow as tf\n",
    "from sklearn.utils import resample"
   ]
  },
  {
   "cell_type": "code",
   "execution_count": 12,
   "metadata": {},
   "outputs": [],
   "source": [
    "from imblearn.over_sampling import SMOTE"
   ]
  },
  {
   "cell_type": "code",
   "execution_count": 13,
   "metadata": {},
   "outputs": [],
   "source": [
    "X = pd.read_csv(\"X_final.csv\") \n",
    "y = pd.read_csv(\"Y_data.csv\")"
   ]
  },
  {
   "cell_type": "code",
   "execution_count": 14,
   "metadata": {},
   "outputs": [
    {
     "data": {
      "text/plain": [
       "0    7677\n",
       "1    1949\n",
       "Name: Exited, dtype: int64"
      ]
     },
     "execution_count": 14,
     "metadata": {},
     "output_type": "execute_result"
    }
   ],
   "source": [
    "#Vemos que los datos están desequilibrados\n",
    "y[\"Exited\"].value_counts()"
   ]
  },
  {
   "cell_type": "code",
   "execution_count": 15,
   "metadata": {},
   "outputs": [],
   "source": [
    "#Partimos los datos en entrenamiento y test\n",
    "\n",
    "X_train, X_test, y_train, y_test = train_test_split(X,y, test_size = .2, \n",
    "                                                    random_state = 42)"
   ]
  },
  {
   "cell_type": "code",
   "execution_count": 16,
   "metadata": {},
   "outputs": [],
   "source": [
    "#Equilibramos los datos\n",
    "sm = SMOTE(random_state = 42)\n",
    "X_train_res, y_train_res = sm.fit_resample(X_train, y_train.Exited.ravel())"
   ]
  },
  {
   "cell_type": "code",
   "execution_count": 17,
   "metadata": {},
   "outputs": [
    {
     "data": {
      "text/plain": [
       "((12316, 6), (12316,))"
      ]
     },
     "execution_count": 17,
     "metadata": {},
     "output_type": "execute_result"
    }
   ],
   "source": [
    "X_train_res.shape, y_train_res.shape"
   ]
  },
  {
   "cell_type": "code",
   "execution_count": 55,
   "metadata": {},
   "outputs": [],
   "source": [
    "#modelo (DNN)\n",
    "\n",
    "model = tf.keras.models.Sequential([\n",
    "    \n",
    "    tf.keras.layers.Dense(128, input_shape=(6,)),\n",
    "    tf.keras.layers.Dropout(0.4),\n",
    "    tf.keras.layers.Dense(512, activation = \"relu\"),\n",
    "    tf.keras.layers.Dropout(0.4),\n",
    "    tf.keras.layers.Dense(1024, activation = \"relu\"),\n",
    "    tf.keras.layers.Dropout(0.4),\n",
    "    tf.keras.layers.Dense(1, activation = \"sigmoid\")\n",
    "])\n",
    "model.compile(optimizer = \"adam\", loss = \"binary_crossentropy\", metrics = \"accuracy\")"
   ]
  },
  {
   "cell_type": "code",
   "execution_count": 56,
   "metadata": {},
   "outputs": [
    {
     "name": "stdout",
     "output_type": "stream",
     "text": [
      "Epoch 1/100\n",
      "385/385 - 1s - loss: 0.5278 - accuracy: 0.7368 - 1s/epoch - 3ms/step\n",
      "Epoch 2/100\n",
      "385/385 - 1s - loss: 0.4903 - accuracy: 0.7614 - 1s/epoch - 3ms/step\n",
      "Epoch 3/100\n",
      "385/385 - 1s - loss: 0.4838 - accuracy: 0.7665 - 1s/epoch - 3ms/step\n",
      "Epoch 4/100\n",
      "385/385 - 1s - loss: 0.4803 - accuracy: 0.7675 - 1s/epoch - 3ms/step\n",
      "Epoch 5/100\n",
      "385/385 - 1s - loss: 0.4771 - accuracy: 0.7709 - 1s/epoch - 3ms/step\n",
      "Epoch 6/100\n",
      "385/385 - 1s - loss: 0.4722 - accuracy: 0.7703 - 1s/epoch - 3ms/step\n",
      "Epoch 7/100\n",
      "385/385 - 1s - loss: 0.4708 - accuracy: 0.7729 - 1s/epoch - 3ms/step\n",
      "Epoch 8/100\n",
      "385/385 - 1s - loss: 0.4695 - accuracy: 0.7748 - 1s/epoch - 3ms/step\n",
      "Epoch 9/100\n",
      "385/385 - 1s - loss: 0.4674 - accuracy: 0.7753 - 1s/epoch - 3ms/step\n",
      "Epoch 10/100\n",
      "385/385 - 1s - loss: 0.4647 - accuracy: 0.7766 - 1s/epoch - 3ms/step\n",
      "Epoch 11/100\n",
      "385/385 - 2s - loss: 0.4613 - accuracy: 0.7805 - 2s/epoch - 5ms/step\n",
      "Epoch 12/100\n",
      "385/385 - 1s - loss: 0.4649 - accuracy: 0.7780 - 1s/epoch - 4ms/step\n",
      "Epoch 13/100\n",
      "385/385 - 2s - loss: 0.4623 - accuracy: 0.7815 - 2s/epoch - 4ms/step\n",
      "Epoch 14/100\n",
      "385/385 - 2s - loss: 0.4599 - accuracy: 0.7761 - 2s/epoch - 4ms/step\n",
      "Epoch 15/100\n",
      "385/385 - 2s - loss: 0.4576 - accuracy: 0.7810 - 2s/epoch - 5ms/step\n",
      "Epoch 16/100\n",
      "385/385 - 1s - loss: 0.4564 - accuracy: 0.7775 - 1s/epoch - 3ms/step\n",
      "Epoch 17/100\n",
      "385/385 - 1s - loss: 0.4556 - accuracy: 0.7806 - 1s/epoch - 3ms/step\n",
      "Epoch 18/100\n",
      "385/385 - 1s - loss: 0.4568 - accuracy: 0.7804 - 1s/epoch - 4ms/step\n",
      "Epoch 19/100\n",
      "385/385 - 1s - loss: 0.4525 - accuracy: 0.7804 - 1s/epoch - 3ms/step\n",
      "Epoch 20/100\n",
      "385/385 - 1s - loss: 0.4494 - accuracy: 0.7822 - 1s/epoch - 4ms/step\n",
      "Epoch 21/100\n",
      "385/385 - 2s - loss: 0.4520 - accuracy: 0.7825 - 2s/epoch - 4ms/step\n",
      "Epoch 22/100\n",
      "385/385 - 2s - loss: 0.4500 - accuracy: 0.7837 - 2s/epoch - 4ms/step\n",
      "Epoch 23/100\n",
      "385/385 - 1s - loss: 0.4495 - accuracy: 0.7865 - 1s/epoch - 3ms/step\n",
      "Epoch 24/100\n",
      "385/385 - 2s - loss: 0.4512 - accuracy: 0.7855 - 2s/epoch - 4ms/step\n",
      "Epoch 25/100\n",
      "385/385 - 2s - loss: 0.4481 - accuracy: 0.7829 - 2s/epoch - 6ms/step\n",
      "Epoch 26/100\n",
      "385/385 - 2s - loss: 0.4472 - accuracy: 0.7861 - 2s/epoch - 5ms/step\n",
      "Epoch 27/100\n",
      "385/385 - 2s - loss: 0.4466 - accuracy: 0.7867 - 2s/epoch - 4ms/step\n",
      "Epoch 28/100\n",
      "385/385 - 2s - loss: 0.4456 - accuracy: 0.7881 - 2s/epoch - 4ms/step\n",
      "Epoch 29/100\n",
      "385/385 - 2s - loss: 0.4433 - accuracy: 0.7866 - 2s/epoch - 4ms/step\n",
      "Epoch 30/100\n",
      "385/385 - 1s - loss: 0.4456 - accuracy: 0.7864 - 1s/epoch - 3ms/step\n",
      "Epoch 31/100\n",
      "385/385 - 1s - loss: 0.4457 - accuracy: 0.7861 - 1s/epoch - 3ms/step\n",
      "Epoch 32/100\n",
      "385/385 - 1s - loss: 0.4470 - accuracy: 0.7861 - 1s/epoch - 3ms/step\n",
      "Epoch 33/100\n",
      "385/385 - 1s - loss: 0.4483 - accuracy: 0.7843 - 1s/epoch - 3ms/step\n",
      "Epoch 34/100\n",
      "385/385 - 2s - loss: 0.4447 - accuracy: 0.7907 - 2s/epoch - 4ms/step\n",
      "Epoch 35/100\n",
      "385/385 - 2s - loss: 0.4487 - accuracy: 0.7858 - 2s/epoch - 5ms/step\n",
      "Epoch 36/100\n",
      "385/385 - 2s - loss: 0.4434 - accuracy: 0.7857 - 2s/epoch - 5ms/step\n",
      "Epoch 37/100\n",
      "385/385 - 2s - loss: 0.4479 - accuracy: 0.7821 - 2s/epoch - 4ms/step\n",
      "Epoch 38/100\n",
      "385/385 - 2s - loss: 0.4426 - accuracy: 0.7865 - 2s/epoch - 4ms/step\n",
      "Epoch 39/100\n",
      "385/385 - 2s - loss: 0.4422 - accuracy: 0.7882 - 2s/epoch - 4ms/step\n",
      "Epoch 40/100\n",
      "385/385 - 2s - loss: 0.4420 - accuracy: 0.7902 - 2s/epoch - 4ms/step\n",
      "Epoch 41/100\n",
      "385/385 - 2s - loss: 0.4378 - accuracy: 0.7920 - 2s/epoch - 4ms/step\n",
      "Epoch 42/100\n",
      "385/385 - 2s - loss: 0.4448 - accuracy: 0.7881 - 2s/epoch - 4ms/step\n",
      "Epoch 43/100\n",
      "385/385 - 2s - loss: 0.4393 - accuracy: 0.7876 - 2s/epoch - 4ms/step\n",
      "Epoch 44/100\n",
      "385/385 - 2s - loss: 0.4412 - accuracy: 0.7895 - 2s/epoch - 4ms/step\n",
      "Epoch 45/100\n",
      "385/385 - 2s - loss: 0.4392 - accuracy: 0.7910 - 2s/epoch - 4ms/step\n",
      "Epoch 46/100\n",
      "385/385 - 2s - loss: 0.4383 - accuracy: 0.7895 - 2s/epoch - 4ms/step\n",
      "Epoch 47/100\n",
      "385/385 - 2s - loss: 0.4393 - accuracy: 0.7903 - 2s/epoch - 4ms/step\n",
      "Epoch 48/100\n",
      "385/385 - 2s - loss: 0.4422 - accuracy: 0.7892 - 2s/epoch - 4ms/step\n",
      "Epoch 49/100\n",
      "385/385 - 2s - loss: 0.4387 - accuracy: 0.7893 - 2s/epoch - 4ms/step\n",
      "Epoch 50/100\n",
      "385/385 - 2s - loss: 0.4424 - accuracy: 0.7903 - 2s/epoch - 5ms/step\n",
      "Epoch 51/100\n",
      "385/385 - 1s - loss: 0.4370 - accuracy: 0.7872 - 1s/epoch - 3ms/step\n",
      "Epoch 52/100\n",
      "385/385 - 1s - loss: 0.4381 - accuracy: 0.7904 - 1s/epoch - 3ms/step\n",
      "Epoch 53/100\n",
      "385/385 - 1s - loss: 0.4379 - accuracy: 0.7898 - 1s/epoch - 3ms/step\n",
      "Epoch 54/100\n",
      "385/385 - 1s - loss: 0.4398 - accuracy: 0.7919 - 1s/epoch - 3ms/step\n",
      "Epoch 55/100\n",
      "385/385 - 1s - loss: 0.4411 - accuracy: 0.7868 - 1s/epoch - 4ms/step\n",
      "Epoch 56/100\n",
      "385/385 - 2s - loss: 0.4379 - accuracy: 0.7900 - 2s/epoch - 4ms/step\n",
      "Epoch 57/100\n",
      "385/385 - 2s - loss: 0.4363 - accuracy: 0.7900 - 2s/epoch - 5ms/step\n",
      "Epoch 58/100\n",
      "385/385 - 2s - loss: 0.4380 - accuracy: 0.7873 - 2s/epoch - 5ms/step\n",
      "Epoch 59/100\n",
      "385/385 - 2s - loss: 0.4387 - accuracy: 0.7926 - 2s/epoch - 5ms/step\n",
      "Epoch 60/100\n",
      "385/385 - 2s - loss: 0.4340 - accuracy: 0.7920 - 2s/epoch - 5ms/step\n",
      "Epoch 61/100\n",
      "385/385 - 2s - loss: 0.4359 - accuracy: 0.7881 - 2s/epoch - 5ms/step\n",
      "Epoch 62/100\n",
      "385/385 - 2s - loss: 0.4368 - accuracy: 0.7872 - 2s/epoch - 5ms/step\n",
      "Epoch 63/100\n",
      "385/385 - 2s - loss: 0.4351 - accuracy: 0.7932 - 2s/epoch - 5ms/step\n",
      "Epoch 64/100\n",
      "385/385 - 2s - loss: 0.4382 - accuracy: 0.7912 - 2s/epoch - 5ms/step\n",
      "Epoch 65/100\n",
      "385/385 - 2s - loss: 0.4370 - accuracy: 0.7918 - 2s/epoch - 5ms/step\n",
      "Epoch 66/100\n",
      "385/385 - 2s - loss: 0.4353 - accuracy: 0.7936 - 2s/epoch - 6ms/step\n",
      "Epoch 67/100\n",
      "385/385 - 2s - loss: 0.4348 - accuracy: 0.7928 - 2s/epoch - 6ms/step\n",
      "Epoch 68/100\n",
      "385/385 - 2s - loss: 0.4355 - accuracy: 0.7918 - 2s/epoch - 5ms/step\n",
      "Epoch 69/100\n",
      "385/385 - 2s - loss: 0.4365 - accuracy: 0.7902 - 2s/epoch - 5ms/step\n",
      "Epoch 70/100\n",
      "385/385 - 2s - loss: 0.4324 - accuracy: 0.7932 - 2s/epoch - 5ms/step\n",
      "Epoch 71/100\n",
      "385/385 - 2s - loss: 0.4368 - accuracy: 0.7888 - 2s/epoch - 5ms/step\n",
      "Epoch 72/100\n",
      "385/385 - 2s - loss: 0.4374 - accuracy: 0.7896 - 2s/epoch - 5ms/step\n",
      "Epoch 73/100\n",
      "385/385 - 2s - loss: 0.4317 - accuracy: 0.7931 - 2s/epoch - 4ms/step\n",
      "Epoch 74/100\n",
      "385/385 - 1s - loss: 0.4338 - accuracy: 0.7934 - 1s/epoch - 4ms/step\n",
      "Epoch 75/100\n",
      "385/385 - 2s - loss: 0.4318 - accuracy: 0.7964 - 2s/epoch - 5ms/step\n",
      "Epoch 76/100\n",
      "385/385 - 2s - loss: 0.4300 - accuracy: 0.7949 - 2s/epoch - 5ms/step\n",
      "Epoch 77/100\n",
      "385/385 - 2s - loss: 0.4366 - accuracy: 0.7942 - 2s/epoch - 5ms/step\n",
      "Epoch 78/100\n",
      "385/385 - 2s - loss: 0.4356 - accuracy: 0.7901 - 2s/epoch - 5ms/step\n",
      "Epoch 79/100\n",
      "385/385 - 1s - loss: 0.4370 - accuracy: 0.7912 - 1s/epoch - 3ms/step\n",
      "Epoch 80/100\n",
      "385/385 - 1s - loss: 0.4338 - accuracy: 0.7936 - 1s/epoch - 4ms/step\n",
      "Epoch 81/100\n",
      "385/385 - 1s - loss: 0.4385 - accuracy: 0.7920 - 1s/epoch - 3ms/step\n",
      "Epoch 82/100\n",
      "385/385 - 1s - loss: 0.4289 - accuracy: 0.7934 - 1s/epoch - 3ms/step\n",
      "Epoch 83/100\n",
      "385/385 - 1s - loss: 0.4338 - accuracy: 0.7911 - 1s/epoch - 3ms/step\n",
      "Epoch 84/100\n",
      "385/385 - 1s - loss: 0.4343 - accuracy: 0.7948 - 1s/epoch - 3ms/step\n",
      "Epoch 85/100\n",
      "385/385 - 2s - loss: 0.4324 - accuracy: 0.7943 - 2s/epoch - 4ms/step\n",
      "Epoch 86/100\n",
      "385/385 - 2s - loss: 0.4359 - accuracy: 0.7938 - 2s/epoch - 5ms/step\n",
      "Epoch 87/100\n",
      "385/385 - 2s - loss: 0.4349 - accuracy: 0.7949 - 2s/epoch - 5ms/step\n",
      "Epoch 88/100\n",
      "385/385 - 2s - loss: 0.4312 - accuracy: 0.7982 - 2s/epoch - 5ms/step\n",
      "Epoch 89/100\n",
      "385/385 - 2s - loss: 0.4340 - accuracy: 0.7959 - 2s/epoch - 5ms/step\n",
      "Epoch 90/100\n",
      "385/385 - 2s - loss: 0.4309 - accuracy: 0.7948 - 2s/epoch - 5ms/step\n",
      "Epoch 91/100\n",
      "385/385 - 2s - loss: 0.4327 - accuracy: 0.7928 - 2s/epoch - 5ms/step\n",
      "Epoch 92/100\n",
      "385/385 - 2s - loss: 0.4318 - accuracy: 0.7935 - 2s/epoch - 5ms/step\n",
      "Epoch 93/100\n",
      "385/385 - 2s - loss: 0.4318 - accuracy: 0.7908 - 2s/epoch - 5ms/step\n",
      "Epoch 94/100\n",
      "385/385 - 2s - loss: 0.4302 - accuracy: 0.7951 - 2s/epoch - 5ms/step\n",
      "Epoch 95/100\n",
      "385/385 - 2s - loss: 0.4307 - accuracy: 0.7951 - 2s/epoch - 5ms/step\n",
      "Epoch 96/100\n",
      "385/385 - 2s - loss: 0.4319 - accuracy: 0.7935 - 2s/epoch - 5ms/step\n",
      "Epoch 97/100\n",
      "385/385 - 2s - loss: 0.4320 - accuracy: 0.7973 - 2s/epoch - 5ms/step\n",
      "Epoch 98/100\n",
      "385/385 - 2s - loss: 0.4321 - accuracy: 0.7913 - 2s/epoch - 5ms/step\n",
      "Epoch 99/100\n",
      "385/385 - 2s - loss: 0.4371 - accuracy: 0.7956 - 2s/epoch - 5ms/step\n",
      "Epoch 100/100\n",
      "385/385 - 1s - loss: 0.4296 - accuracy: 0.7964 - 1s/epoch - 3ms/step\n"
     ]
    }
   ],
   "source": [
    "history = model.fit(X_train_res, y_train_res, \n",
    "                    epochs = 100, verbose = 2)"
   ]
  },
  {
   "cell_type": "code",
   "execution_count": 59,
   "metadata": {},
   "outputs": [
    {
     "name": "stdout",
     "output_type": "stream",
     "text": [
      "61/61 [==============================] - 0s 1ms/step - loss: 0.4378 - accuracy: 0.7913\n"
     ]
    },
    {
     "data": {
      "text/plain": [
       "[0.4378404915332794, 0.7912772297859192]"
      ]
     },
     "execution_count": 59,
     "metadata": {},
     "output_type": "execute_result"
    }
   ],
   "source": [
    "#Tenemos una precisión de un 77.46%\n",
    "model.evaluate(X_test, y_test)"
   ]
  },
  {
   "cell_type": "code",
   "execution_count": 60,
   "metadata": {},
   "outputs": [],
   "source": [
    "acc = history.history[\"accuracy\"]\n",
    "loss = history.history[\"loss\"]\n",
    "epochs = range(1, len(loss) + 1)"
   ]
  },
  {
   "cell_type": "code",
   "execution_count": 61,
   "metadata": {},
   "outputs": [
    {
     "data": {
      "image/png": "[encoded data removed]",
      "text/plain": [
       "<Figure size 432x288 with 1 Axes>"
      ]
     },
     "metadata": {
      "needs_background": "light"
     },
     "output_type": "display_data"
    }
   ],
   "source": [
    "#Hacemos un plot de la función de coste y de la precisión\n",
    "import matplotlib.pyplot as plt\n",
    "\n",
    "plt.plot(epochs, acc, label = \"Accuracy\")\n",
    "plt.plot(epochs, loss, label = \"loss\")\n",
    "plt.legend()\n",
    "plt.show()"
   ]
  },
  {
   "cell_type": "markdown",
   "metadata": {},
   "source": [
    "Como modelo en vez de una red neuronal profunda podriamos haber utilizado una regresión logística, un SVM, un randomforest"
   ]
  },
  {
   "cell_type": "code",
   "execution_count": 62,
   "metadata": {},
   "outputs": [
    {
     "name": "stdout",
     "output_type": "stream",
     "text": [
      "61/61 [==============================] - 0s 1ms/step\n"
     ]
    }
   ],
   "source": [
    "y_proba = model.predict(X_test)\n",
    "y_pred = np.round(y_proba)"
   ]
  },
  {
   "cell_type": "code",
   "execution_count": 63,
   "metadata": {},
   "outputs": [],
   "source": [
    "from sklearn.metrics import confusion_matrix\n",
    "\n",
    "conf = confusion_matrix(y_test, y_pred)\n"
   ]
  },
  {
   "cell_type": "code",
   "execution_count": 64,
   "metadata": {},
   "outputs": [
    {
     "data": {
      "text/plain": [
       "<sklearn.metrics._plot.confusion_matrix.ConfusionMatrixDisplay at 0x7fc5ac06d410>"
      ]
     },
     "execution_count": 64,
     "metadata": {},
     "output_type": "execute_result"
    },
    {
     "data": {
      "image/png": "[encoded data removed]",
      "text/plain": [
       "<Figure size 432x288 with 2 Axes>"
      ]
     },
     "metadata": {
      "needs_background": "light"
     },
     "output_type": "display_data"
    }
   ],
   "source": [
    "from sklearn.metrics import ConfusionMatrixDisplay\n",
    "\n",
    "cm_plot = ConfusionMatrixDisplay(conf)\n",
    "cm_plot.plot()"
   ]
  },
  {
   "cell_type": "code",
   "execution_count": 65,
   "metadata": {},
   "outputs": [
    {
     "name": "stdout",
     "output_type": "stream",
     "text": [
      "              precision    recall  f1-score   support\n",
      "\n",
      "           0       0.92      0.80      0.86      1519\n",
      "           1       0.50      0.75      0.60       407\n",
      "\n",
      "    accuracy                           0.79      1926\n",
      "   macro avg       0.71      0.78      0.73      1926\n",
      "weighted avg       0.83      0.79      0.80      1926\n",
      "\n"
     ]
    }
   ],
   "source": [
    "from sklearn.metrics import classification_report\n",
    "print(classification_report(y_test, y_pred))"
   ]
  },
  {
   "cell_type": "markdown",
   "metadata": {},
   "source": [
    "Lo que más nos interesaba es tener un buen recall en la clase de clientes que abandonan y tener menor error tipo 1 que tipo 2."
   ]
  },
  {
   "cell_type": "code",
   "execution_count": null,
   "metadata": {},
   "outputs": [],
   "source": []
  }
 ],
 "metadata": {
  "kernelspec": {
   "display_name": "Python 3",
   "language": "python",
   "name": "python3"
  },
  "language_info": {
   "codemirror_mode": {
    "name": "ipython",
    "version": 3
   },
   "file_extension": ".py",
   "mimetype": "text/x-python",
   "name": "python",
   "nbconvert_exporter": "python",
   "pygments_lexer": "ipython3",
   "version": "3.7.6"
  }
 },
 "nbformat": 4,
 "nbformat_minor": 4
}
