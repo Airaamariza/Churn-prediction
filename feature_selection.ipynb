{
 "cells": [
  {
   "cell_type": "code",
   "execution_count": 1,
   "metadata": {},
   "outputs": [],
   "source": [
    "import numpy as np\n",
    "import pandas as pd\n",
    "import matplotlib.pyplot as plt\n",
    "\n",
    "from sklearn.linear_model import Lasso\n",
    "from sklearn.feature_selection import SelectFromModel"
   ]
  },
  {
   "cell_type": "code",
   "execution_count": 2,
   "metadata": {},
   "outputs": [],
   "source": [
    "#Guardamos los datos en variables\n",
    "\n",
    "X = pd.read_csv(\"X_data.csv\")\n",
    "y = pd.read_csv(\"Y_data.csv\")"
   ]
  },
  {
   "cell_type": "code",
   "execution_count": 5,
   "metadata": {},
   "outputs": [
    {
     "data": {
      "text/plain": [
       "SelectFromModel(estimator=Lasso(alpha=0.005, copy_X=True, fit_intercept=True,\n",
       "                                max_iter=1000, normalize=False, positive=False,\n",
       "                                precompute=False, random_state=42,\n",
       "                                selection='cyclic', tol=0.0001,\n",
       "                                warm_start=False),\n",
       "                max_features=None, norm_order=1, prefit=False, threshold=None)"
      ]
     },
     "execution_count": 5,
     "metadata": {},
     "output_type": "execute_result"
    }
   ],
   "source": [
    "#Usamos la función SelectFromModel con una regresión lasso\n",
    "#Podriamos usar el método de la Chi-cuadrado o por correlación, pero\n",
    "#considero más efectivo este método\n",
    "\n",
    "feature_sel_model = SelectFromModel(Lasso(alpha = 0.005, random_state = 42))\n",
    "feature_sel_model.fit(X,y)"
   ]
  },
  {
   "cell_type": "code",
   "execution_count": 7,
   "metadata": {},
   "outputs": [
    {
     "data": {
      "text/plain": [
       "array([False,  True,  True,  True, False,  True,  True, False,  True,\n",
       "       False])"
      ]
     },
     "execution_count": 7,
     "metadata": {},
     "output_type": "execute_result"
    }
   ],
   "source": [
    "feature_sel_model.get_support()"
   ]
  },
  {
   "cell_type": "code",
   "execution_count": 8,
   "metadata": {},
   "outputs": [],
   "source": [
    "selected_features = X.columns[(feature_sel_model.get_support())]"
   ]
  },
  {
   "cell_type": "code",
   "execution_count": 12,
   "metadata": {},
   "outputs": [
    {
     "data": {
      "text/html": [
       "<div>\n",
       "<style scoped>\n",
       "    .dataframe tbody tr th:only-of-type {\n",
       "        vertical-align: middle;\n",
       "    }\n",
       "\n",
       "    .dataframe tbody tr th {\n",
       "        vertical-align: top;\n",
       "    }\n",
       "\n",
       "    .dataframe thead th {\n",
       "        text-align: right;\n",
       "    }\n",
       "</style>\n",
       "<table border=\"1\" class=\"dataframe\">\n",
       "  <thead>\n",
       "    <tr style=\"text-align: right;\">\n",
       "      <th></th>\n",
       "      <th>Geography</th>\n",
       "      <th>Gender</th>\n",
       "      <th>Age</th>\n",
       "      <th>Balance</th>\n",
       "      <th>NumOfProducts</th>\n",
       "      <th>IsActiveMember</th>\n",
       "    </tr>\n",
       "  </thead>\n",
       "  <tbody>\n",
       "    <tr>\n",
       "      <th>0</th>\n",
       "      <td>-0.902797</td>\n",
       "      <td>-1.097157</td>\n",
       "      <td>0.567861</td>\n",
       "      <td>-1.226774</td>\n",
       "      <td>-0.961286</td>\n",
       "      <td>0.992961</td>\n",
       "    </tr>\n",
       "    <tr>\n",
       "      <th>1</th>\n",
       "      <td>0.300682</td>\n",
       "      <td>-1.097157</td>\n",
       "      <td>0.464883</td>\n",
       "      <td>0.116386</td>\n",
       "      <td>-0.961286</td>\n",
       "      <td>0.992961</td>\n",
       "    </tr>\n",
       "    <tr>\n",
       "      <th>2</th>\n",
       "      <td>-0.902797</td>\n",
       "      <td>-1.097157</td>\n",
       "      <td>0.567861</td>\n",
       "      <td>1.332056</td>\n",
       "      <td>2.002285</td>\n",
       "      <td>-1.007089</td>\n",
       "    </tr>\n",
       "    <tr>\n",
       "      <th>3</th>\n",
       "      <td>-0.902797</td>\n",
       "      <td>-1.097157</td>\n",
       "      <td>0.251170</td>\n",
       "      <td>-1.226774</td>\n",
       "      <td>0.908519</td>\n",
       "      <td>-1.007089</td>\n",
       "    </tr>\n",
       "    <tr>\n",
       "      <th>4</th>\n",
       "      <td>0.300682</td>\n",
       "      <td>-1.097157</td>\n",
       "      <td>0.668416</td>\n",
       "      <td>0.784746</td>\n",
       "      <td>-0.961286</td>\n",
       "      <td>0.992961</td>\n",
       "    </tr>\n",
       "  </tbody>\n",
       "</table>\n",
       "</div>"
      ],
      "text/plain": [
       "   Geography    Gender       Age   Balance  NumOfProducts  IsActiveMember\n",
       "0  -0.902797 -1.097157  0.567861 -1.226774      -0.961286        0.992961\n",
       "1   0.300682 -1.097157  0.464883  0.116386      -0.961286        0.992961\n",
       "2  -0.902797 -1.097157  0.567861  1.332056       2.002285       -1.007089\n",
       "3  -0.902797 -1.097157  0.251170 -1.226774       0.908519       -1.007089\n",
       "4   0.300682 -1.097157  0.668416  0.784746      -0.961286        0.992961"
      ]
     },
     "execution_count": 12,
     "metadata": {},
     "output_type": "execute_result"
    }
   ],
   "source": [
    "#Seleccionamos las mejores variables\n",
    "X_final = X[selected_features]\n",
    "X_final.head()"
   ]
  },
  {
   "cell_type": "code",
   "execution_count": 14,
   "metadata": {},
   "outputs": [],
   "source": [
    "X_final.to_csv(\"X_final.csv\", index = False)"
   ]
  },
  {
   "cell_type": "code",
   "execution_count": null,
   "metadata": {},
   "outputs": [],
   "source": []
  }
 ],
 "metadata": {
  "kernelspec": {
   "display_name": "Python 3",
   "language": "python",
   "name": "python3"
  },
  "language_info": {
   "codemirror_mode": {
    "name": "ipython",
    "version": 3
   },
   "file_extension": ".py",
   "mimetype": "text/x-python",
   "name": "python",
   "nbconvert_exporter": "python",
   "pygments_lexer": "ipython3",
   "version": "3.7.6"
  }
 },
 "nbformat": 4,
 "nbformat_minor": 4
}
